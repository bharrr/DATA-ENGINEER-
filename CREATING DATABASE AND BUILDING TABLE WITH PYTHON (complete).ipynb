{
 "cells": [
  {
   "cell_type": "markdown",
   "id": "46ec0b3a",
   "metadata": {},
   "source": [
    "## Lession 1 Exercise1: Creating a Table with PostergreSQL "
   ]
  },
  {
   "cell_type": "code",
   "execution_count": 1,
   "id": "09f1c49a",
   "metadata": {
    "scrolled": true
   },
   "outputs": [
    {
     "name": "stdout",
     "output_type": "stream",
     "text": [
      "Defaulting to user installation because normal site-packages is not writeable\n",
      "Requirement already satisfied: psycopg2 in c:\\users\\bharati\\appdata\\roaming\\python\\python310\\site-packages (2.9.4)\n",
      "Note: you may need to restart the kernel to use updated packages.\n"
     ]
    },
    {
     "name": "stderr",
     "output_type": "stream",
     "text": [
      "\n",
      "[notice] A new release of pip available: 22.2.2 -> 23.2.1\n",
      "[notice] To update, run: python.exe -m pip install --upgrade pip\n"
     ]
    }
   ],
   "source": [
    "pip install psycopg2 "
   ]
  },
  {
   "cell_type": "markdown",
   "id": "fa47a6c0",
   "metadata": {},
   "source": [
    "## Import the library"
   ]
  },
  {
   "cell_type": "code",
   "execution_count": 2,
   "id": "8a5e784a",
   "metadata": {},
   "outputs": [],
   "source": [
    "import psycopg2 "
   ]
  },
  {
   "cell_type": "markdown",
   "id": "2d86c589",
   "metadata": {},
   "source": [
    "## create connection to the database"
   ]
  },
  {
   "cell_type": "code",
   "execution_count": 3,
   "id": "9b337779",
   "metadata": {},
   "outputs": [],
   "source": [
    "try:\n",
    "    conn = psycopg2.connect(\"host=127.0.0.1 dbname=postgres user=postgres password=root\") \n",
    "except psycopg2.Error as e:\n",
    "    print(\"Error: Could not make connection to the postgres database\")\n",
    "    print(e)"
   ]
  },
  {
   "cell_type": "markdown",
   "id": "114d040f",
   "metadata": {},
   "source": [
    "## Use the connection to get a cursor that can be used to execute queries"
   ]
  },
  {
   "cell_type": "code",
   "execution_count": 4,
   "id": "94d4862e",
   "metadata": {},
   "outputs": [],
   "source": [
    "try:\n",
    "    cur = conn.cursor()\n",
    "except psycopg2.Error as e:\n",
    "    print(\"Error: Could not get cursor to the database\")\n",
    "    print(e)\n",
    "    "
   ]
  },
  {
   "cell_type": "markdown",
   "id": "d8ac9406",
   "metadata": {},
   "source": [
    "## Set automatic commit to be true so that each action is commiteed without having to call conn.commit() after each command "
   ]
  },
  {
   "cell_type": "code",
   "execution_count": 5,
   "id": "204e0069",
   "metadata": {},
   "outputs": [],
   "source": [
    "conn.set_session(autocommit=True)"
   ]
  },
  {
   "cell_type": "markdown",
   "id": "d46bc046",
   "metadata": {},
   "source": [
    "## Create database to do work in "
   ]
  },
  {
   "cell_type": "code",
   "execution_count": 6,
   "id": "48903d44",
   "metadata": {},
   "outputs": [
    {
     "name": "stdout",
     "output_type": "stream",
     "text": [
      "database \"myfirstdb\" already exists\n",
      "\n"
     ]
    }
   ],
   "source": [
    "try:\n",
    "    cur.execute(\"create database myfirstdb\")\n",
    "except psycopg2.Error as e:\n",
    "    print(e)"
   ]
  },
  {
   "cell_type": "markdown",
   "id": "f199eef2",
   "metadata": {},
   "source": [
    "## Add the database name in the connect statement. Lets close our connecction to the default database, reconnect to the myfirstdb database , and get a new cursor  "
   ]
  },
  {
   "cell_type": "code",
   "execution_count": 7,
   "id": "3523e2b5",
   "metadata": {},
   "outputs": [],
   "source": [
    "try:\n",
    "    conn.close()\n",
    "except psycopg2.Error as e:\n",
    "    print(e)\n",
    "    \n",
    "try:\n",
    "    conn = psycopg2.connect(\"host=127.0.0.1 dbname=myfirstdb user=postgres password=root\")\n",
    "except psycopg2.Error as e:\n",
    "    print(\"Error: Could not make connection to the postgres database\")\n",
    "    print(e)\n",
    "    \n",
    "try:\n",
    "    cur = conn.cursor()\n",
    "except psycopg2.Error as e:\n",
    "    print(\"Error: Could not get the cursor to the database\")\n",
    "    print(e)\n",
    "    \n",
    "conn.set_session(autocommit=True)"
   ]
  },
  {
   "cell_type": "markdown",
   "id": "ca41c972",
   "metadata": {},
   "source": [
    "##  Create Table for students which includes coloumn\n",
    "\n",
    "student_id\n",
    "name \n",
    "age\n",
    "gender\n",
    "subject\n",
    "marks "
   ]
  },
  {
   "cell_type": "code",
   "execution_count": 8,
   "id": "42e7b5ca",
   "metadata": {},
   "outputs": [],
   "source": [
    "try:\n",
    "    cur.execute(\"CREATE TABLE IF NOT EXISTS students1 (student_id int, name varchar,\\\n",
    "    age int,gender varchar , subject varchar , marks int );\")\n",
    "except psycopg2.Error as e:\n",
    "    print(\"Error: Issue creating table\")\n",
    "    print(e)\n",
    "#     conn = psycopg2.connect(\"host=127.0.0.1 dbname=myfirstdb1 user=postgres password=root\")\n",
    "#     cur = conn.cursor()"
   ]
  },
  {
   "cell_type": "markdown",
   "id": "1705473e",
   "metadata": {},
   "source": [
    "## Insert the following two rows in the table \n",
    "\n",
    "First Row:   1,\"Raj\",23,\"Male\",85\n",
    "\n",
    "second row:  2,\"Priya\",22,\"Female\",86"
   ]
  },
  {
   "cell_type": "code",
   "execution_count": 9,
   "id": "fb04b6f0",
   "metadata": {},
   "outputs": [],
   "source": [
    "try:\n",
    "    cur.execute(\"INSERT INTO students1 (student_id, name, age, gender, subject, marks) \\\n",
    "            VALUES (%s, %s, %s, %s, %s, %s)\", \\\n",
    "            (1,\"Raj\",23,\"Male\",\"Python\",85))\n",
    "except psycopg2.Error as e:\n",
    "    print(\"Error: Inserting Rows\")\n",
    "    print(e)\n",
    "    \n",
    "try:\n",
    "    cur.execute(\"INSERT INTO students1 (student_id, name, age, gender, subject, marks) \\\n",
    "                VALUES (%s, %s, %s, %s, %s, %s)\", \\\n",
    "                (2,\"Priya\",22,\"Female\",\"Python\",86))\n",
    "except psycopg2.Error as e:\n",
    "    print(\"Error: Inserting Rows\")\n",
    "    print(e)"
   ]
  },
  {
   "cell_type": "markdown",
   "id": "6bfcde00",
   "metadata": {},
   "source": [
    "## Validate your data was inserted into the table "
   ]
  },
  {
   "cell_type": "code",
   "execution_count": 10,
   "id": "37f0f775",
   "metadata": {},
   "outputs": [
    {
     "name": "stdout",
     "output_type": "stream",
     "text": [
      "(1, 'Raj', 23, 'Male', 'Python', 85)\n",
      "(2, 'Priya', 22, 'Female', 'Python', 86)\n"
     ]
    }
   ],
   "source": [
    "try: \n",
    "    cur.execute(\"SELECT * FROM students1;\")\n",
    "except psycopg2.Error as e:\n",
    "    print(\"Error: select *\")\n",
    "    print(e)\n",
    "    \n",
    "row = cur.fetchone()\n",
    "while row:\n",
    "    print(row)\n",
    "    row = cur.fetchone()"
   ]
  },
  {
   "cell_type": "markdown",
   "id": "3c9b374d",
   "metadata": {},
   "source": [
    "## And Finally close your cursor and connection "
   ]
  },
  {
   "cell_type": "code",
   "execution_count": 11,
   "id": "59c86202",
   "metadata": {},
   "outputs": [],
   "source": [
    "cur.close()\n",
    "conn.close()"
   ]
  },
  {
   "cell_type": "code",
   "execution_count": null,
   "id": "f599d79b",
   "metadata": {},
   "outputs": [],
   "source": []
  }
 ],
 "metadata": {
  "kernelspec": {
   "display_name": "Python 3 (ipykernel)",
   "language": "python",
   "name": "python3"
  },
  "language_info": {
   "codemirror_mode": {
    "name": "ipython",
    "version": 3
   },
   "file_extension": ".py",
   "mimetype": "text/x-python",
   "name": "python",
   "nbconvert_exporter": "python",
   "pygments_lexer": "ipython3",
   "version": "3.10.7"
  }
 },
 "nbformat": 4,
 "nbformat_minor": 5
}
